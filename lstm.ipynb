{
  "cells": [
    {
      "cell_type": "code",
      "execution_count": 1,
      "metadata": {
        "id": "NMj6sV0Rohdt"
      },
      "outputs": [],
      "source": [
        "import os\n",
        "import csv\n",
        "\n",
        "import pandas as pd\n",
        "import numpy as np\n",
        "from sklearn.metrics import confusion_matrix\n",
        "from sklearn.neighbors import NearestNeighbors, LocalOutlierFactor\n",
        "from nltk.translate.bleu_score import sentence_bleu, SmoothingFunction\n",
        "\n",
        "from tensorflow import keras\n",
        "import tensorflow as tf\n",
        "import random as python_random\n",
        "from tensorflow.keras import layers,Sequential,callbacks\n",
        "from tensorflow.keras.preprocessing import sequence\n",
        "from tensorflow.keras.preprocessing.text import Tokenizer\n",
        "from tensorflow.keras.callbacks import EarlyStopping\n",
        "from tensorflow.keras import backend as K\n",
        "from tensorflow.keras.layers import Dense, Bidirectional, Dropout, GRU,LSTM\n",
        "\n",
        "import matplotlib.pyplot as plt\n",
        "import editdistance\n",
        "from sklearn import preprocessing\n",
        "from sklearn.preprocessing import StandardScaler,MinMaxScaler\n",
        "from sklearn.model_selection import train_test_split "
      ]
    },
    {
      "cell_type": "code",
      "execution_count": 2,
      "metadata": {
        "colab": {
          "base_uri": "https://localhost:8080/",
          "height": 584
        },
        "id": "m4Kt4TbLp6aM",
        "outputId": "08a2fd87-50ee-4347-c53d-a13be695a784"
      },
      "outputs": [
        {
          "data": {
            "text/html": [
              "\n",
              "  <div id=\"df-8815a20f-1d23-4db5-893c-2e3dadd86ead\">\n",
              "    <div class=\"colab-df-container\">\n",
              "      <div>\n",
              "<style scoped>\n",
              "    .dataframe tbody tr th:only-of-type {\n",
              "        vertical-align: middle;\n",
              "    }\n",
              "\n",
              "    .dataframe tbody tr th {\n",
              "        vertical-align: top;\n",
              "    }\n",
              "\n",
              "    .dataframe thead th {\n",
              "        text-align: right;\n",
              "    }\n",
              "</style>\n",
              "<table border=\"1\" class=\"dataframe\">\n",
              "  <thead>\n",
              "    <tr style=\"text-align: right;\">\n",
              "      <th></th>\n",
              "      <th>age</th>\n",
              "      <th>anaemia</th>\n",
              "      <th>creatinine_phosphokinase</th>\n",
              "      <th>diabetes</th>\n",
              "      <th>ejection_fraction</th>\n",
              "      <th>high_blood_pressure</th>\n",
              "      <th>platelets</th>\n",
              "      <th>serum_creatinine</th>\n",
              "      <th>serum_sodium</th>\n",
              "      <th>sex</th>\n",
              "      <th>smoking</th>\n",
              "      <th>time</th>\n",
              "      <th>DEATH_EVENT</th>\n",
              "    </tr>\n",
              "  </thead>\n",
              "  <tbody>\n",
              "    <tr>\n",
              "      <th>0</th>\n",
              "      <td>75.0</td>\n",
              "      <td>0</td>\n",
              "      <td>582</td>\n",
              "      <td>0</td>\n",
              "      <td>20</td>\n",
              "      <td>1</td>\n",
              "      <td>265000.00</td>\n",
              "      <td>1.9</td>\n",
              "      <td>130</td>\n",
              "      <td>1</td>\n",
              "      <td>0</td>\n",
              "      <td>4</td>\n",
              "      <td>1</td>\n",
              "    </tr>\n",
              "    <tr>\n",
              "      <th>1</th>\n",
              "      <td>55.0</td>\n",
              "      <td>0</td>\n",
              "      <td>7861</td>\n",
              "      <td>0</td>\n",
              "      <td>38</td>\n",
              "      <td>0</td>\n",
              "      <td>263358.03</td>\n",
              "      <td>1.1</td>\n",
              "      <td>136</td>\n",
              "      <td>1</td>\n",
              "      <td>0</td>\n",
              "      <td>6</td>\n",
              "      <td>1</td>\n",
              "    </tr>\n",
              "    <tr>\n",
              "      <th>2</th>\n",
              "      <td>65.0</td>\n",
              "      <td>0</td>\n",
              "      <td>146</td>\n",
              "      <td>0</td>\n",
              "      <td>20</td>\n",
              "      <td>0</td>\n",
              "      <td>162000.00</td>\n",
              "      <td>1.3</td>\n",
              "      <td>129</td>\n",
              "      <td>1</td>\n",
              "      <td>1</td>\n",
              "      <td>7</td>\n",
              "      <td>1</td>\n",
              "    </tr>\n",
              "    <tr>\n",
              "      <th>3</th>\n",
              "      <td>50.0</td>\n",
              "      <td>1</td>\n",
              "      <td>111</td>\n",
              "      <td>0</td>\n",
              "      <td>20</td>\n",
              "      <td>0</td>\n",
              "      <td>210000.00</td>\n",
              "      <td>1.9</td>\n",
              "      <td>137</td>\n",
              "      <td>1</td>\n",
              "      <td>0</td>\n",
              "      <td>7</td>\n",
              "      <td>1</td>\n",
              "    </tr>\n",
              "    <tr>\n",
              "      <th>4</th>\n",
              "      <td>65.0</td>\n",
              "      <td>1</td>\n",
              "      <td>160</td>\n",
              "      <td>1</td>\n",
              "      <td>20</td>\n",
              "      <td>0</td>\n",
              "      <td>327000.00</td>\n",
              "      <td>2.7</td>\n",
              "      <td>116</td>\n",
              "      <td>0</td>\n",
              "      <td>0</td>\n",
              "      <td>8</td>\n",
              "      <td>1</td>\n",
              "    </tr>\n",
              "    <tr>\n",
              "      <th>5</th>\n",
              "      <td>90.0</td>\n",
              "      <td>1</td>\n",
              "      <td>47</td>\n",
              "      <td>0</td>\n",
              "      <td>40</td>\n",
              "      <td>1</td>\n",
              "      <td>204000.00</td>\n",
              "      <td>2.1</td>\n",
              "      <td>132</td>\n",
              "      <td>1</td>\n",
              "      <td>1</td>\n",
              "      <td>8</td>\n",
              "      <td>1</td>\n",
              "    </tr>\n",
              "    <tr>\n",
              "      <th>6</th>\n",
              "      <td>75.0</td>\n",
              "      <td>1</td>\n",
              "      <td>246</td>\n",
              "      <td>0</td>\n",
              "      <td>15</td>\n",
              "      <td>0</td>\n",
              "      <td>127000.00</td>\n",
              "      <td>1.2</td>\n",
              "      <td>137</td>\n",
              "      <td>1</td>\n",
              "      <td>0</td>\n",
              "      <td>10</td>\n",
              "      <td>1</td>\n",
              "    </tr>\n",
              "    <tr>\n",
              "      <th>7</th>\n",
              "      <td>60.0</td>\n",
              "      <td>1</td>\n",
              "      <td>315</td>\n",
              "      <td>1</td>\n",
              "      <td>60</td>\n",
              "      <td>0</td>\n",
              "      <td>454000.00</td>\n",
              "      <td>1.1</td>\n",
              "      <td>131</td>\n",
              "      <td>1</td>\n",
              "      <td>1</td>\n",
              "      <td>10</td>\n",
              "      <td>1</td>\n",
              "    </tr>\n",
              "    <tr>\n",
              "      <th>8</th>\n",
              "      <td>65.0</td>\n",
              "      <td>0</td>\n",
              "      <td>157</td>\n",
              "      <td>0</td>\n",
              "      <td>65</td>\n",
              "      <td>0</td>\n",
              "      <td>263358.03</td>\n",
              "      <td>1.5</td>\n",
              "      <td>138</td>\n",
              "      <td>0</td>\n",
              "      <td>0</td>\n",
              "      <td>10</td>\n",
              "      <td>1</td>\n",
              "    </tr>\n",
              "    <tr>\n",
              "      <th>9</th>\n",
              "      <td>80.0</td>\n",
              "      <td>1</td>\n",
              "      <td>123</td>\n",
              "      <td>0</td>\n",
              "      <td>35</td>\n",
              "      <td>1</td>\n",
              "      <td>388000.00</td>\n",
              "      <td>9.4</td>\n",
              "      <td>133</td>\n",
              "      <td>1</td>\n",
              "      <td>1</td>\n",
              "      <td>10</td>\n",
              "      <td>1</td>\n",
              "    </tr>\n",
              "    <tr>\n",
              "      <th>10</th>\n",
              "      <td>75.0</td>\n",
              "      <td>1</td>\n",
              "      <td>81</td>\n",
              "      <td>0</td>\n",
              "      <td>38</td>\n",
              "      <td>1</td>\n",
              "      <td>368000.00</td>\n",
              "      <td>4.0</td>\n",
              "      <td>131</td>\n",
              "      <td>1</td>\n",
              "      <td>1</td>\n",
              "      <td>10</td>\n",
              "      <td>1</td>\n",
              "    </tr>\n",
              "    <tr>\n",
              "      <th>11</th>\n",
              "      <td>62.0</td>\n",
              "      <td>0</td>\n",
              "      <td>231</td>\n",
              "      <td>0</td>\n",
              "      <td>25</td>\n",
              "      <td>1</td>\n",
              "      <td>253000.00</td>\n",
              "      <td>0.9</td>\n",
              "      <td>140</td>\n",
              "      <td>1</td>\n",
              "      <td>1</td>\n",
              "      <td>10</td>\n",
              "      <td>1</td>\n",
              "    </tr>\n",
              "    <tr>\n",
              "      <th>12</th>\n",
              "      <td>45.0</td>\n",
              "      <td>1</td>\n",
              "      <td>981</td>\n",
              "      <td>0</td>\n",
              "      <td>30</td>\n",
              "      <td>0</td>\n",
              "      <td>136000.00</td>\n",
              "      <td>1.1</td>\n",
              "      <td>137</td>\n",
              "      <td>1</td>\n",
              "      <td>0</td>\n",
              "      <td>11</td>\n",
              "      <td>1</td>\n",
              "    </tr>\n",
              "    <tr>\n",
              "      <th>13</th>\n",
              "      <td>50.0</td>\n",
              "      <td>1</td>\n",
              "      <td>168</td>\n",
              "      <td>0</td>\n",
              "      <td>38</td>\n",
              "      <td>1</td>\n",
              "      <td>276000.00</td>\n",
              "      <td>1.1</td>\n",
              "      <td>137</td>\n",
              "      <td>1</td>\n",
              "      <td>0</td>\n",
              "      <td>11</td>\n",
              "      <td>1</td>\n",
              "    </tr>\n",
              "    <tr>\n",
              "      <th>14</th>\n",
              "      <td>49.0</td>\n",
              "      <td>1</td>\n",
              "      <td>80</td>\n",
              "      <td>0</td>\n",
              "      <td>30</td>\n",
              "      <td>1</td>\n",
              "      <td>427000.00</td>\n",
              "      <td>1.0</td>\n",
              "      <td>138</td>\n",
              "      <td>0</td>\n",
              "      <td>0</td>\n",
              "      <td>12</td>\n",
              "      <td>0</td>\n",
              "    </tr>\n",
              "  </tbody>\n",
              "</table>\n",
              "</div>\n",
              "      <button class=\"colab-df-convert\" onclick=\"convertToInteractive('df-8815a20f-1d23-4db5-893c-2e3dadd86ead')\"\n",
              "              title=\"Convert this dataframe to an interactive table.\"\n",
              "              style=\"display:none;\">\n",
              "        \n",
              "  <svg xmlns=\"http://www.w3.org/2000/svg\" height=\"24px\"viewBox=\"0 0 24 24\"\n",
              "       width=\"24px\">\n",
              "    <path d=\"M0 0h24v24H0V0z\" fill=\"none\"/>\n",
              "    <path d=\"M18.56 5.44l.94 2.06.94-2.06 2.06-.94-2.06-.94-.94-2.06-.94 2.06-2.06.94zm-11 1L8.5 8.5l.94-2.06 2.06-.94-2.06-.94L8.5 2.5l-.94 2.06-2.06.94zm10 10l.94 2.06.94-2.06 2.06-.94-2.06-.94-.94-2.06-.94 2.06-2.06.94z\"/><path d=\"M17.41 7.96l-1.37-1.37c-.4-.4-.92-.59-1.43-.59-.52 0-1.04.2-1.43.59L10.3 9.45l-7.72 7.72c-.78.78-.78 2.05 0 2.83L4 21.41c.39.39.9.59 1.41.59.51 0 1.02-.2 1.41-.59l7.78-7.78 2.81-2.81c.8-.78.8-2.07 0-2.86zM5.41 20L4 18.59l7.72-7.72 1.47 1.35L5.41 20z\"/>\n",
              "  </svg>\n",
              "      </button>\n",
              "      \n",
              "  <style>\n",
              "    .colab-df-container {\n",
              "      display:flex;\n",
              "      flex-wrap:wrap;\n",
              "      gap: 12px;\n",
              "    }\n",
              "\n",
              "    .colab-df-convert {\n",
              "      background-color: #E8F0FE;\n",
              "      border: none;\n",
              "      border-radius: 50%;\n",
              "      cursor: pointer;\n",
              "      display: none;\n",
              "      fill: #1967D2;\n",
              "      height: 32px;\n",
              "      padding: 0 0 0 0;\n",
              "      width: 32px;\n",
              "    }\n",
              "\n",
              "    .colab-df-convert:hover {\n",
              "      background-color: #E2EBFA;\n",
              "      box-shadow: 0px 1px 2px rgba(60, 64, 67, 0.3), 0px 1px 3px 1px rgba(60, 64, 67, 0.15);\n",
              "      fill: #174EA6;\n",
              "    }\n",
              "\n",
              "    [theme=dark] .colab-df-convert {\n",
              "      background-color: #3B4455;\n",
              "      fill: #D2E3FC;\n",
              "    }\n",
              "\n",
              "    [theme=dark] .colab-df-convert:hover {\n",
              "      background-color: #434B5C;\n",
              "      box-shadow: 0px 1px 3px 1px rgba(0, 0, 0, 0.15);\n",
              "      filter: drop-shadow(0px 1px 2px rgba(0, 0, 0, 0.3));\n",
              "      fill: #FFFFFF;\n",
              "    }\n",
              "  </style>\n",
              "\n",
              "      <script>\n",
              "        const buttonEl =\n",
              "          document.querySelector('#df-8815a20f-1d23-4db5-893c-2e3dadd86ead button.colab-df-convert');\n",
              "        buttonEl.style.display =\n",
              "          google.colab.kernel.accessAllowed ? 'block' : 'none';\n",
              "\n",
              "        async function convertToInteractive(key) {\n",
              "          const element = document.querySelector('#df-8815a20f-1d23-4db5-893c-2e3dadd86ead');\n",
              "          const dataTable =\n",
              "            await google.colab.kernel.invokeFunction('convertToInteractive',\n",
              "                                                     [key], {});\n",
              "          if (!dataTable) return;\n",
              "\n",
              "          const docLinkHtml = 'Like what you see? Visit the ' +\n",
              "            '<a target=\"_blank\" href=https://colab.research.google.com/notebooks/data_table.ipynb>data table notebook</a>'\n",
              "            + ' to learn more about interactive tables.';\n",
              "          element.innerHTML = '';\n",
              "          dataTable['output_type'] = 'display_data';\n",
              "          await google.colab.output.renderOutput(dataTable, element);\n",
              "          const docLink = document.createElement('div');\n",
              "          docLink.innerHTML = docLinkHtml;\n",
              "          element.appendChild(docLink);\n",
              "        }\n",
              "      </script>\n",
              "    </div>\n",
              "  </div>\n",
              "  "
            ],
            "text/plain": [
              "     age  anaemia  creatinine_phosphokinase  diabetes  ejection_fraction  \\\n",
              "0   75.0        0                       582         0                 20   \n",
              "1   55.0        0                      7861         0                 38   \n",
              "2   65.0        0                       146         0                 20   \n",
              "3   50.0        1                       111         0                 20   \n",
              "4   65.0        1                       160         1                 20   \n",
              "5   90.0        1                        47         0                 40   \n",
              "6   75.0        1                       246         0                 15   \n",
              "7   60.0        1                       315         1                 60   \n",
              "8   65.0        0                       157         0                 65   \n",
              "9   80.0        1                       123         0                 35   \n",
              "10  75.0        1                        81         0                 38   \n",
              "11  62.0        0                       231         0                 25   \n",
              "12  45.0        1                       981         0                 30   \n",
              "13  50.0        1                       168         0                 38   \n",
              "14  49.0        1                        80         0                 30   \n",
              "\n",
              "    high_blood_pressure  platelets  serum_creatinine  serum_sodium  sex  \\\n",
              "0                     1  265000.00               1.9           130    1   \n",
              "1                     0  263358.03               1.1           136    1   \n",
              "2                     0  162000.00               1.3           129    1   \n",
              "3                     0  210000.00               1.9           137    1   \n",
              "4                     0  327000.00               2.7           116    0   \n",
              "5                     1  204000.00               2.1           132    1   \n",
              "6                     0  127000.00               1.2           137    1   \n",
              "7                     0  454000.00               1.1           131    1   \n",
              "8                     0  263358.03               1.5           138    0   \n",
              "9                     1  388000.00               9.4           133    1   \n",
              "10                    1  368000.00               4.0           131    1   \n",
              "11                    1  253000.00               0.9           140    1   \n",
              "12                    0  136000.00               1.1           137    1   \n",
              "13                    1  276000.00               1.1           137    1   \n",
              "14                    1  427000.00               1.0           138    0   \n",
              "\n",
              "    smoking  time  DEATH_EVENT  \n",
              "0         0     4            1  \n",
              "1         0     6            1  \n",
              "2         1     7            1  \n",
              "3         0     7            1  \n",
              "4         0     8            1  \n",
              "5         1     8            1  \n",
              "6         0    10            1  \n",
              "7         1    10            1  \n",
              "8         0    10            1  \n",
              "9         1    10            1  \n",
              "10        1    10            1  \n",
              "11        1    10            1  \n",
              "12        0    11            1  \n",
              "13        0    11            1  \n",
              "14        0    12            0  "
            ]
          },
          "execution_count": 2,
          "metadata": {},
          "output_type": "execute_result"
        }
      ],
      "source": [
        "df = pd.read_csv('heart_failure_clinical_records_dataset.csv')\n",
        "df.head(15)"
      ]
    },
    {
      "cell_type": "code",
      "execution_count": 3,
      "metadata": {
        "id": "1yRXwCGyqHQz"
      },
      "outputs": [],
      "source": [
        "x=  df.drop([\"DEATH_EVENT\"],axis=1)\n",
        "y=  df[\"DEATH_EVENT\"]"
      ]
    },
    {
      "cell_type": "code",
      "execution_count": 4,
      "metadata": {
        "id": "lK6DJe-nqgG3"
      },
      "outputs": [],
      "source": [
        "#Preprocessing the data using minmax scaler for  better visualization\n",
        "s_scaler = preprocessing.MinMaxScaler(feature_range=(0,10))\n",
        "X_scaled= s_scaler.fit_transform(x)"
      ]
    },
    {
      "cell_type": "code",
      "execution_count": 5,
      "metadata": {
        "id": "JU_OVBvWrPxg"
      },
      "outputs": [],
      "source": [
        "x_train, x_valid, y_train, y_valid = train_test_split(X_scaled,y, test_size=0.3, random_state=29,stratify=y)\n"
      ]
    },
    {
      "cell_type": "code",
      "execution_count": 6,
      "metadata": {
        "id": "AtzWucC8qTY3"
      },
      "outputs": [],
      "source": [
        " #Setting the max sequence lenght\n",
        "vocab_size = 256\n",
        "max_seq_length = 12  #(the maximum sequence length in training/testing data)"
      ]
    },
    {
      "cell_type": "code",
      "execution_count": 7,
      "metadata": {
        "id": "zTKzeZRwqboV"
      },
      "outputs": [],
      "source": [
        "# Pad X_train_sequences and X_val_sequences\n",
        "X_train_padded = sequence.pad_sequences(x_train, maxlen=max_seq_length, padding='post')\n",
        "X_val_padded = sequence.pad_sequences(x_valid, maxlen=max_seq_length, padding='post')"
      ]
    },
    {
      "cell_type": "code",
      "execution_count": 8,
      "metadata": {
        "colab": {
          "base_uri": "https://localhost:8080/"
        },
        "id": "HIqtYflerUxh",
        "outputId": "4d312627-d235-4974-cc82-7fe62a2d6637"
      },
      "outputs": [
        {
          "name": "stdout",
          "output_type": "stream",
          "text": [
            "Dimension of train data (209, 12)\n",
            "Dimension of train classes (209,)\n",
            "Dimension of valid data (90, 12)\n",
            "Dimension of valid classes (90,)\n"
          ]
        }
      ],
      "source": [
        "# Dimension of training data \n",
        "print('Dimension of train data',X_train_padded.shape)\n",
        "print('Dimension of train classes',y_train.shape)\n",
        "print('Dimension of valid data',X_val_padded.shape)\n",
        "print('Dimension of valid classes', y_valid.shape)"
      ]
    },
    {
      "cell_type": "code",
      "execution_count": 9,
      "metadata": {
        "colab": {
          "base_uri": "https://localhost:8080/"
        },
        "id": "Tng9HDQNrgPz",
        "outputId": "ca63d489-8487-4a58-accf-61d66c6ccbf1"
      },
      "outputs": [
        {
          "data": {
            "text/plain": [
              "array([ 1,  0,  0,  0,  4,  0,  4,  1,  6, 10, 10, 10], dtype=int32)"
            ]
          },
          "execution_count": 9,
          "metadata": {},
          "output_type": "execute_result"
        }
      ],
      "source": [
        "X_val_padded[4]"
      ]
    },
    {
      "cell_type": "code",
      "execution_count": 10,
      "metadata": {
        "id": "9CEp102Fri8z"
      },
      "outputs": [],
      "source": [
        "# For plotting the accuracy/loss of keras models\n",
        "def plot_graphs(history, string):\n",
        "    plt.plot(history.history[string])\n",
        "    plt.plot(history.history['val_'+string])\n",
        "    plt.xlabel(\"Epochs\")\n",
        "    plt.ylabel(string)\n",
        "    plt.legend([string, 'val_'+string])\n",
        "    plt.show()"
      ]
    },
    {
      "cell_type": "code",
      "execution_count": 11,
      "metadata": {
        "colab": {
          "base_uri": "https://localhost:8080/"
        },
        "id": "syZ7ek7eGwXF",
        "outputId": "b837f19d-94e2-425a-82a8-507a9265b2d2"
      },
      "outputs": [
        {
          "data": {
            "text/plain": [
              "12"
            ]
          },
          "execution_count": 11,
          "metadata": {},
          "output_type": "execute_result"
        }
      ],
      "source": [
        "X_train_padded.shape[1]"
      ]
    },
    {
      "cell_type": "code",
      "execution_count": 12,
      "metadata": {
        "id": "eq3Q_RsLrmQU"
      },
      "outputs": [],
      "source": [
        "# Fix the random seeds to get consistent models\n",
        "## ref: https://keras.io/getting_started/faq/#how-can-i-obtain-reproducible-results-using-keras-during-development\n",
        "seed_value = 3\n",
        "\n",
        "os.environ['PYTHONHASHSEED']=str(seed_value)\n",
        "\n",
        "# The below is necessary for starting Numpy generated random numbers in a well-defined initial state.\n",
        "np.random.seed(seed_value)\n",
        "\n",
        "# The below is necessary for starting core Python generated random numbers in a well-defined state.\n",
        "python_random.seed(seed_value)\n",
        "\n",
        "# The below set_seed() will make random number generation\n",
        "tf.random.set_seed(seed_value)\n",
        "\n",
        "# configure a new global `tensorflow` session\n",
        "session_conf = tf.compat.v1.ConfigProto(intra_op_parallelism_threads=1, inter_op_parallelism_threads=1)\n",
        "sess = tf.compat.v1.Session(graph=tf.compat.v1.get_default_graph(), config=session_conf)\n",
        "tf.compat.v1.keras.backend.set_session(sess)\n",
        "\n",
        "def reset_seeds(seed_value=3):\n",
        "    os.environ['PYTHONHASHSEED']=str(seed_value)\n",
        "    np.random.seed(seed_value) \n",
        "    python_random.seed(seed_value)\n",
        "    tf.random.set_seed(seed_value)\n",
        "\n",
        "reset_seeds() "
      ]
    },
    {
      "cell_type": "code",
      "execution_count": 13,
      "metadata": {
        "id": "_pFibJAurrdx"
      },
      "outputs": [],
      "source": [
        "# Define the early stopping criteria\n",
        "early_stopping = EarlyStopping(monitor='val_accuracy', patience=25, restore_best_weights=True)"
      ]
    },
    {
      "cell_type": "code",
      "execution_count": 14,
      "metadata": {
        "colab": {
          "base_uri": "https://localhost:8080/"
        },
        "id": "kcYlj6pkrvm4",
        "outputId": "d974762d-2b30-42a7-e855-9e300c2e4642"
      },
      "outputs": [
        {
          "name": "stdout",
          "output_type": "stream",
          "text": [
            "Model: \"model\"\n",
            "_________________________________________________________________\n",
            " Layer (type)                Output Shape              Param #   \n",
            "=================================================================\n",
            " input_1 (InputLayer)        [(None, None)]            0         \n",
            "                                                                 \n",
            " embedding (Embedding)       (None, None, 128)         32768     \n",
            "                                                                 \n",
            " bidirectional (Bidirectiona  (None, None, 128)        98816     \n",
            " l)                                                              \n",
            "                                                                 \n",
            " bidirectional_1 (Bidirectio  (None, 128)              98816     \n",
            " nal)                                                            \n",
            "                                                                 \n",
            " dense (Dense)               (None, 1)                 129       \n",
            "                                                                 \n",
            "=================================================================\n",
            "Total params: 230,529\n",
            "Trainable params: 230,529\n",
            "Non-trainable params: 0\n",
            "_________________________________________________________________\n"
          ]
        }
      ],
      "source": [
        "# Define the model structure\n",
        "# Input for variable-length sequences of integers\n",
        "inputs = keras.Input(shape=(None,), dtype=\"int32\")\n",
        "\n",
        "# Embed each integer in a 128-dimensional vector\n",
        "x = layers.Embedding(vocab_size, 128)(inputs)\n",
        "\n",
        "# Add 2 bidirectional LSTMs\n",
        "x = layers.Bidirectional(layers.LSTM(64, return_sequences=True))(x)\n",
        "x = layers.Bidirectional(layers.LSTM(64))(x)\n",
        "\n",
        "# Add a classifier\n",
        "outputs = layers.Dense(1, activation=\"sigmoid\")(x)\n",
        "main_model = keras.Model(inputs, outputs)\n",
        "\n",
        "main_model.summary()"
      ]
    },
    {
      "cell_type": "markdown",
      "metadata": {
        "id": "pEqZupYm6N5z"
      },
      "source": [
        "METRICS TO EVALUATE OUR MODEL"
      ]
    },
    {
      "cell_type": "code",
      "execution_count": 15,
      "metadata": {
        "id": "Qf5mne0s9rH3"
      },
      "outputs": [],
      "source": [
        "from keras import backend as K\n",
        "\n",
        "\n",
        "# defining different metrics for evaluating our lstm model\n",
        "\n",
        "def recall_m(y_true, y_pred):\n",
        "    true_positives = K.sum(K.round(K.clip(y_true * y_pred, 0, 1)))\n",
        "    possible_positives = K.sum(K.round(K.clip(y_true, 0, 1)))\n",
        "    recall = true_positives / (possible_positives + K.epsilon())\n",
        "    return recall\n",
        "\n",
        "def precision_m(y_true, y_pred):\n",
        "    true_positives = K.sum(K.round(K.clip(y_true * y_pred, 0, 1)))\n",
        "    predicted_positives = K.sum(K.round(K.clip(y_pred, 0, 1)))\n",
        "    precision = true_positives / (predicted_positives + K.epsilon())\n",
        "    return precision\n",
        "\n",
        "def f1_m(y_true, y_pred):\n",
        "    precision = precision_m(y_true, y_pred)\n",
        "    recall = recall_m(y_true, y_pred)\n",
        "    return 2*((precision*recall)/(precision+recall+K.epsilon()))\n",
        "\n"
      ]
    },
    {
      "cell_type": "code",
      "execution_count": 16,
      "metadata": {
        "colab": {
          "base_uri": "https://localhost:8080/"
        },
        "id": "_S8wrRTerz3E",
        "outputId": "d79aaa86-8eac-41b2-98e0-e7667e60ec57"
      },
      "outputs": [
        {
          "name": "stdout",
          "output_type": "stream",
          "text": [
            "Epoch 1/25\n",
            "4/4 [==============================] - 16s 749ms/step - loss: 0.6807 - accuracy: 0.6459 - f1_m: 0.0455 - precision_m: 0.0577 - recall_m: 0.0375 - val_loss: 0.6536 - val_accuracy: 0.6778 - val_f1_m: 0.0000e+00 - val_precision_m: 0.0000e+00 - val_recall_m: 0.0000e+00\n",
            "Epoch 2/25\n",
            "4/4 [==============================] - 0s 37ms/step - loss: 0.6411 - accuracy: 0.6794 - f1_m: 0.0000e+00 - precision_m: 0.0000e+00 - recall_m: 0.0000e+00 - val_loss: 0.6283 - val_accuracy: 0.6778 - val_f1_m: 0.0000e+00 - val_precision_m: 0.0000e+00 - val_recall_m: 0.0000e+00\n",
            "Epoch 3/25\n",
            "4/4 [==============================] - 0s 40ms/step - loss: 0.6425 - accuracy: 0.6794 - f1_m: 0.0000e+00 - precision_m: 0.0000e+00 - recall_m: 0.0000e+00 - val_loss: 0.6313 - val_accuracy: 0.6778 - val_f1_m: 0.0000e+00 - val_precision_m: 0.0000e+00 - val_recall_m: 0.0000e+00\n",
            "Epoch 4/25\n",
            "4/4 [==============================] - 0s 37ms/step - loss: 0.6272 - accuracy: 0.6794 - f1_m: 0.0000e+00 - precision_m: 0.0000e+00 - recall_m: 0.0000e+00 - val_loss: 0.6230 - val_accuracy: 0.6778 - val_f1_m: 0.0000e+00 - val_precision_m: 0.0000e+00 - val_recall_m: 0.0000e+00\n",
            "Epoch 5/25\n",
            "4/4 [==============================] - 0s 37ms/step - loss: 0.6238 - accuracy: 0.6794 - f1_m: 0.0000e+00 - precision_m: 0.0000e+00 - recall_m: 0.0000e+00 - val_loss: 0.6239 - val_accuracy: 0.6778 - val_f1_m: 0.0000e+00 - val_precision_m: 0.0000e+00 - val_recall_m: 0.0000e+00\n",
            "Epoch 6/25\n",
            "4/4 [==============================] - 0s 38ms/step - loss: 0.6197 - accuracy: 0.6794 - f1_m: 0.0000e+00 - precision_m: 0.0000e+00 - recall_m: 0.0000e+00 - val_loss: 0.6166 - val_accuracy: 0.6778 - val_f1_m: 0.0000e+00 - val_precision_m: 0.0000e+00 - val_recall_m: 0.0000e+00\n",
            "Epoch 7/25\n",
            "4/4 [==============================] - 0s 36ms/step - loss: 0.6151 - accuracy: 0.6794 - f1_m: 0.0000e+00 - precision_m: 0.0000e+00 - recall_m: 0.0000e+00 - val_loss: 0.6119 - val_accuracy: 0.6778 - val_f1_m: 0.0000e+00 - val_precision_m: 0.0000e+00 - val_recall_m: 0.0000e+00\n",
            "Epoch 8/25\n",
            "4/4 [==============================] - 0s 35ms/step - loss: 0.6119 - accuracy: 0.6794 - f1_m: 0.0000e+00 - precision_m: 0.0000e+00 - recall_m: 0.0000e+00 - val_loss: 0.6057 - val_accuracy: 0.6778 - val_f1_m: 0.0000e+00 - val_precision_m: 0.0000e+00 - val_recall_m: 0.0000e+00\n",
            "Epoch 9/25\n",
            "4/4 [==============================] - 0s 35ms/step - loss: 0.6003 - accuracy: 0.6794 - f1_m: 0.0000e+00 - precision_m: 0.0000e+00 - recall_m: 0.0000e+00 - val_loss: 0.5948 - val_accuracy: 0.6778 - val_f1_m: 0.0000e+00 - val_precision_m: 0.0000e+00 - val_recall_m: 0.0000e+00\n",
            "Epoch 10/25\n",
            "4/4 [==============================] - 0s 39ms/step - loss: 0.5907 - accuracy: 0.6794 - f1_m: 0.0000e+00 - precision_m: 0.0000e+00 - recall_m: 0.0000e+00 - val_loss: 0.5845 - val_accuracy: 0.6778 - val_f1_m: 0.0000e+00 - val_precision_m: 0.0000e+00 - val_recall_m: 0.0000e+00\n",
            "Epoch 11/25\n",
            "4/4 [==============================] - 0s 40ms/step - loss: 0.5768 - accuracy: 0.6842 - f1_m: 0.0455 - precision_m: 0.3750 - recall_m: 0.0244 - val_loss: 0.5518 - val_accuracy: 0.7444 - val_f1_m: 0.2222 - val_precision_m: 0.5000 - val_recall_m: 0.1429\n",
            "Epoch 12/25\n",
            "4/4 [==============================] - 0s 41ms/step - loss: 0.5384 - accuracy: 0.7129 - f1_m: 0.2292 - precision_m: 0.8875 - recall_m: 0.1377 - val_loss: 0.4896 - val_accuracy: 0.7667 - val_f1_m: 0.4914 - val_precision_m: 0.8125 - val_recall_m: 0.3542\n",
            "Epoch 13/25\n",
            "4/4 [==============================] - 0s 36ms/step - loss: 0.4799 - accuracy: 0.7799 - f1_m: 0.6145 - precision_m: 0.8306 - recall_m: 0.5458 - val_loss: 0.4468 - val_accuracy: 0.7667 - val_f1_m: 0.6296 - val_precision_m: 0.6375 - val_recall_m: 0.6220\n",
            "Epoch 14/25\n",
            "4/4 [==============================] - 0s 40ms/step - loss: 0.4598 - accuracy: 0.7751 - f1_m: 0.6513 - precision_m: 0.6971 - recall_m: 0.6223 - val_loss: 0.4418 - val_accuracy: 0.7778 - val_f1_m: 0.6785 - val_precision_m: 0.6515 - val_recall_m: 0.7083\n",
            "Epoch 15/25\n",
            "4/4 [==============================] - 0s 38ms/step - loss: 0.4621 - accuracy: 0.7560 - f1_m: 0.6610 - precision_m: 0.6111 - recall_m: 0.7270 - val_loss: 0.4247 - val_accuracy: 0.7667 - val_f1_m: 0.6667 - val_precision_m: 0.6125 - val_recall_m: 0.7321\n",
            "Epoch 16/25\n",
            "4/4 [==============================] - 0s 39ms/step - loss: 0.4459 - accuracy: 0.7751 - f1_m: 0.6844 - precision_m: 0.6765 - recall_m: 0.7041 - val_loss: 0.4094 - val_accuracy: 0.8000 - val_f1_m: 0.6577 - val_precision_m: 0.7321 - val_recall_m: 0.5982\n",
            "Epoch 17/25\n",
            "4/4 [==============================] - 0s 42ms/step - loss: 0.4290 - accuracy: 0.8038 - f1_m: 0.6815 - precision_m: 0.7368 - recall_m: 0.6429 - val_loss: 0.4097 - val_accuracy: 0.8333 - val_f1_m: 0.7000 - val_precision_m: 0.8452 - val_recall_m: 0.5982\n",
            "Epoch 18/25\n",
            "4/4 [==============================] - 0s 38ms/step - loss: 0.4334 - accuracy: 0.7990 - f1_m: 0.5848 - precision_m: 0.7574 - recall_m: 0.4866 - val_loss: 0.4138 - val_accuracy: 0.8222 - val_f1_m: 0.6992 - val_precision_m: 0.7990 - val_recall_m: 0.6220\n",
            "Epoch 19/25\n",
            "4/4 [==============================] - 0s 39ms/step - loss: 0.4397 - accuracy: 0.7990 - f1_m: 0.6545 - precision_m: 0.6414 - recall_m: 0.7476 - val_loss: 0.4433 - val_accuracy: 0.7667 - val_f1_m: 0.6515 - val_precision_m: 0.6615 - val_recall_m: 0.6458\n",
            "Epoch 20/25\n",
            "4/4 [==============================] - 0s 38ms/step - loss: 0.4256 - accuracy: 0.8134 - f1_m: 0.6706 - precision_m: 0.7181 - recall_m: 0.6328 - val_loss: 0.4161 - val_accuracy: 0.8333 - val_f1_m: 0.6514 - val_precision_m: 0.9000 - val_recall_m: 0.5119\n",
            "Epoch 21/25\n",
            "4/4 [==============================] - 0s 37ms/step - loss: 0.4247 - accuracy: 0.7990 - f1_m: 0.6106 - precision_m: 0.8808 - recall_m: 0.4713 - val_loss: 0.4106 - val_accuracy: 0.8333 - val_f1_m: 0.6514 - val_precision_m: 0.9000 - val_recall_m: 0.5119\n",
            "Epoch 22/25\n",
            "4/4 [==============================] - 0s 36ms/step - loss: 0.4129 - accuracy: 0.8134 - f1_m: 0.5842 - precision_m: 0.8816 - recall_m: 0.4567 - val_loss: 0.4035 - val_accuracy: 0.8333 - val_f1_m: 0.7018 - val_precision_m: 0.7689 - val_recall_m: 0.6458\n",
            "Epoch 23/25\n",
            "4/4 [==============================] - 0s 38ms/step - loss: 0.4010 - accuracy: 0.8230 - f1_m: 0.7041 - precision_m: 0.7270 - recall_m: 0.6920 - val_loss: 0.4330 - val_accuracy: 0.7889 - val_f1_m: 0.6667 - val_precision_m: 0.6905 - val_recall_m: 0.6458\n",
            "Epoch 24/25\n",
            "4/4 [==============================] - 0s 36ms/step - loss: 0.4036 - accuracy: 0.7990 - f1_m: 0.6887 - precision_m: 0.6730 - recall_m: 0.7121 - val_loss: 0.4137 - val_accuracy: 0.8111 - val_f1_m: 0.6833 - val_precision_m: 0.7256 - val_recall_m: 0.6458\n",
            "Epoch 25/25\n",
            "4/4 [==============================] - 0s 36ms/step - loss: 0.3914 - accuracy: 0.8325 - f1_m: 0.7303 - precision_m: 0.8189 - recall_m: 0.6651 - val_loss: 0.4153 - val_accuracy: 0.8222 - val_f1_m: 0.6847 - val_precision_m: 0.7634 - val_recall_m: 0.6220\n"
          ]
        }
      ],
      "source": [
        "main_model.compile(\"adam\", \"binary_crossentropy\", metrics=[\"accuracy\",f1_m,precision_m,recall_m])\n",
        "\n",
        "reset_seeds()\n",
        "model_history = main_model.fit(\n",
        "    x_train, \n",
        "    y_train, \n",
        "    epochs=25, \n",
        "    batch_size=64, \n",
        "    validation_data=(x_valid, y_valid), \n",
        "    callbacks=[early_stopping])\n",
        "# evaluate the model\n",
        "loss, accuracy, f1_score, precision, recall = main_model.evaluate(x_valid, y_valid, verbose=0)"
      ]
    },
    {
      "cell_type": "markdown",
      "metadata": {
        "id": "7mlm8Ma6sVUa"
      },
      "source": []
    },
    {
      "cell_type": "code",
      "execution_count": 17,
      "metadata": {
        "colab": {
          "base_uri": "https://localhost:8080/",
          "height": 279
        },
        "id": "3C13XiL9-fzq",
        "outputId": "c1ec9199-85dd-4cb2-dbce-b100a0ce477d"
      },
      "outputs": [
        {
          "data": {
            "image/png": "[encoded data removed]",
            "text/plain": [
              "<Figure size 432x288 with 1 Axes>"
            ]
          },
          "metadata": {
            "needs_background": "light"
          },
          "output_type": "display_data"
        }
      ],
      "source": [
        "# Visualize the training/validation accuracy and loss\n",
        "plot_graphs(model_history, \"loss\")"
      ]
    },
    {
      "cell_type": "code",
      "execution_count": 18,
      "metadata": {
        "id": "yWFFSBqvsbXK"
      },
      "outputs": [],
      "source": [
        "# Get the predicted target class: if pred > 0.5, then y_pred = 1; else, y_pred = 0\n",
        "y_pred = np.array([1 if pred > 0.5 else 0 for pred in main_model.predict(X_val_padded)])"
      ]
    },
    {
      "cell_type": "code",
      "execution_count": 19,
      "metadata": {
        "colab": {
          "base_uri": "https://localhost:8080/"
        },
        "id": "AhfL5uBnsgm1",
        "outputId": "7c7f7085-3ca8-4f53-bc1c-531e89110835"
      },
      "outputs": [
        {
          "data": {
            "text/plain": [
              "0.8222222222222222"
            ]
          },
          "execution_count": 19,
          "metadata": {},
          "output_type": "execute_result"
        }
      ],
      "source": [
        "# Calculate the validation accuracy\n",
        "validation_acc = sum(y_pred == y_valid)/len(y_valid)\n",
        "validation_acc"
      ]
    },
    {
      "cell_type": "code",
      "execution_count": 20,
      "metadata": {
        "colab": {
          "base_uri": "https://localhost:8080/",
          "height": 112
        },
        "id": "UKWED8JQsoBN",
        "outputId": "d6c799b2-4da0-4851-83f8-831b9b8f13a0"
      },
      "outputs": [
        {
          "data": {
            "text/html": [
              "\n",
              "  <div id=\"df-0d981c89-018b-4cb8-860c-3f861518854b\">\n",
              "    <div class=\"colab-df-container\">\n",
              "      <div>\n",
              "<style scoped>\n",
              "    .dataframe tbody tr th:only-of-type {\n",
              "        vertical-align: middle;\n",
              "    }\n",
              "\n",
              "    .dataframe tbody tr th {\n",
              "        vertical-align: top;\n",
              "    }\n",
              "\n",
              "    .dataframe thead th {\n",
              "        text-align: right;\n",
              "    }\n",
              "</style>\n",
              "<table border=\"1\" class=\"dataframe\">\n",
              "  <thead>\n",
              "    <tr style=\"text-align: right;\">\n",
              "      <th></th>\n",
              "      <th>Pred:pos</th>\n",
              "      <th>Pred:neg</th>\n",
              "    </tr>\n",
              "  </thead>\n",
              "  <tbody>\n",
              "    <tr>\n",
              "      <th>True:pos</th>\n",
              "      <td>18</td>\n",
              "      <td>11</td>\n",
              "    </tr>\n",
              "    <tr>\n",
              "      <th>True:neg</th>\n",
              "      <td>5</td>\n",
              "      <td>56</td>\n",
              "    </tr>\n",
              "  </tbody>\n",
              "</table>\n",
              "</div>\n",
              "      <button class=\"colab-df-convert\" onclick=\"convertToInteractive('df-0d981c89-018b-4cb8-860c-3f861518854b')\"\n",
              "              title=\"Convert this dataframe to an interactive table.\"\n",
              "              style=\"display:none;\">\n",
              "        \n",
              "  <svg xmlns=\"http://www.w3.org/2000/svg\" height=\"24px\"viewBox=\"0 0 24 24\"\n",
              "       width=\"24px\">\n",
              "    <path d=\"M0 0h24v24H0V0z\" fill=\"none\"/>\n",
              "    <path d=\"M18.56 5.44l.94 2.06.94-2.06 2.06-.94-2.06-.94-.94-2.06-.94 2.06-2.06.94zm-11 1L8.5 8.5l.94-2.06 2.06-.94-2.06-.94L8.5 2.5l-.94 2.06-2.06.94zm10 10l.94 2.06.94-2.06 2.06-.94-2.06-.94-.94-2.06-.94 2.06-2.06.94z\"/><path d=\"M17.41 7.96l-1.37-1.37c-.4-.4-.92-.59-1.43-.59-.52 0-1.04.2-1.43.59L10.3 9.45l-7.72 7.72c-.78.78-.78 2.05 0 2.83L4 21.41c.39.39.9.59 1.41.59.51 0 1.02-.2 1.41-.59l7.78-7.78 2.81-2.81c.8-.78.8-2.07 0-2.86zM5.41 20L4 18.59l7.72-7.72 1.47 1.35L5.41 20z\"/>\n",
              "  </svg>\n",
              "      </button>\n",
              "      \n",
              "  <style>\n",
              "    .colab-df-container {\n",
              "      display:flex;\n",
              "      flex-wrap:wrap;\n",
              "      gap: 12px;\n",
              "    }\n",
              "\n",
              "    .colab-df-convert {\n",
              "      background-color: #E8F0FE;\n",
              "      border: none;\n",
              "      border-radius: 50%;\n",
              "      cursor: pointer;\n",
              "      display: none;\n",
              "      fill: #1967D2;\n",
              "      height: 32px;\n",
              "      padding: 0 0 0 0;\n",
              "      width: 32px;\n",
              "    }\n",
              "\n",
              "    .colab-df-convert:hover {\n",
              "      background-color: #E2EBFA;\n",
              "      box-shadow: 0px 1px 2px rgba(60, 64, 67, 0.3), 0px 1px 3px 1px rgba(60, 64, 67, 0.15);\n",
              "      fill: #174EA6;\n",
              "    }\n",
              "\n",
              "    [theme=dark] .colab-df-convert {\n",
              "      background-color: #3B4455;\n",
              "      fill: #D2E3FC;\n",
              "    }\n",
              "\n",
              "    [theme=dark] .colab-df-convert:hover {\n",
              "      background-color: #434B5C;\n",
              "      box-shadow: 0px 1px 3px 1px rgba(0, 0, 0, 0.15);\n",
              "      filter: drop-shadow(0px 1px 2px rgba(0, 0, 0, 0.3));\n",
              "      fill: #FFFFFF;\n",
              "    }\n",
              "  </style>\n",
              "\n",
              "      <script>\n",
              "        const buttonEl =\n",
              "          document.querySelector('#df-0d981c89-018b-4cb8-860c-3f861518854b button.colab-df-convert');\n",
              "        buttonEl.style.display =\n",
              "          google.colab.kernel.accessAllowed ? 'block' : 'none';\n",
              "\n",
              "        async function convertToInteractive(key) {\n",
              "          const element = document.querySelector('#df-0d981c89-018b-4cb8-860c-3f861518854b');\n",
              "          const dataTable =\n",
              "            await google.colab.kernel.invokeFunction('convertToInteractive',\n",
              "                                                     [key], {});\n",
              "          if (!dataTable) return;\n",
              "\n",
              "          const docLinkHtml = 'Like what you see? Visit the ' +\n",
              "            '<a target=\"_blank\" href=https://colab.research.google.com/notebooks/data_table.ipynb>data table notebook</a>'\n",
              "            + ' to learn more about interactive tables.';\n",
              "          element.innerHTML = '';\n",
              "          dataTable['output_type'] = 'display_data';\n",
              "          await google.colab.output.renderOutput(dataTable, element);\n",
              "          const docLink = document.createElement('div');\n",
              "          docLink.innerHTML = docLinkHtml;\n",
              "          element.appendChild(docLink);\n",
              "        }\n",
              "      </script>\n",
              "    </div>\n",
              "  </div>\n",
              "  "
            ],
            "text/plain": [
              "          Pred:pos  Pred:neg\n",
              "True:pos        18        11\n",
              "True:neg         5        56"
            ]
          },
          "execution_count": 20,
          "metadata": {},
          "output_type": "execute_result"
        }
      ],
      "source": [
        "# Get the confusion matrix\n",
        "confusion_matrix_df = pd.DataFrame(\n",
        "        confusion_matrix(y_true=y_valid, y_pred=y_pred, labels=[1, 0]),\n",
        "        index=['True:pos', 'True:neg'], \n",
        "        columns=['Pred:pos', 'Pred:neg']\n",
        "    )\n",
        "confusion_matrix_df"
      ]
    },
    {
      "cell_type": "markdown",
      "metadata": {
        "id": "E3ELKj7z-1W3"
      },
      "source": [
        "Taking the negative prediction from lstm for counterfactual explanantion"
      ]
    },
    {
      "cell_type": "code",
      "execution_count": 21,
      "metadata": {
        "colab": {
          "base_uri": "https://localhost:8080/"
        },
        "id": "fE61OTkXs2ge",
        "outputId": "75655d10-f0fe-45d0-be3c-1f216c5c197b"
      },
      "outputs": [
        {
          "data": {
            "text/plain": [
              "0    67\n",
              "1    23\n",
              "dtype: int64"
            ]
          },
          "execution_count": 21,
          "metadata": {},
          "output_type": "execute_result"
        }
      ],
      "source": [
        "# Counts of positive and negative predictions\n",
        "pd.value_counts(y_pred)"
      ]
    },
    {
      "cell_type": "code",
      "execution_count": 22,
      "metadata": {
        "id": "eDA393CnP8Yv"
      },
      "outputs": [],
      "source": [
        "# predict probabilities for test set\n",
        "yhat_probs = main_model.predict(x_valid, verbose=0)\n",
        "\n",
        "yhat_classes = main_model.predict(y_valid, verbose=0)"
      ]
    },
    {
      "cell_type": "code",
      "execution_count": 23,
      "metadata": {
        "id": "SlBSbCx08vI5"
      },
      "outputs": [],
      "source": [
        "from sklearn.metrics import accuracy_score,precision_score,recall_score,f1_score"
      ]
    },
    {
      "cell_type": "markdown",
      "metadata": {
        "id": "MBX1yaxB6FVy"
      },
      "source": [
        "### ***Get the negative predictions from LSTM, for counterfactual explanations***"
      ]
    },
    {
      "cell_type": "code",
      "execution_count": 24,
      "metadata": {
        "id": "A6vwsb247NB1"
      },
      "outputs": [],
      "source": [
        "# Get the predicted target class: if pred > 0.5, then y_pred = 1; else, y_pred = 0\n",
        "y_pred = np.array([1 if pred > 0.5 else 0 for pred in main_model.predict(x_valid)])"
      ]
    },
    {
      "cell_type": "code",
      "execution_count": 25,
      "metadata": {
        "colab": {
          "base_uri": "https://localhost:8080/"
        },
        "id": "Oh6-NR-5tcaM",
        "outputId": "00bc824f-6096-471d-ab00-bc0fe4fedbfe"
      },
      "outputs": [
        {
          "name": "stdout",
          "output_type": "stream",
          "text": [
            "1st negative prediction [8.36363636 0.         0.71319214 0.         3.63636364 0.\n",
            " 2.88832622 1.49438202 6.         0.         0.         3.23843416]\n",
            "X_neg_predict shape (23, 12)\n"
          ]
        }
      ],
      "source": [
        "# Get these instances of negative predictions\n",
        "X_pred_negative = x_valid[y_pred == 1]\n",
        "\n",
        "print('1st negative prediction',X_pred_negative[0])\n",
        "print('X_neg_predict shape', X_pred_negative.shape)"
      ]
    },
    {
      "cell_type": "code",
      "execution_count": 26,
      "metadata": {
        "colab": {
          "base_uri": "https://localhost:8080/",
          "height": 176
        },
        "id": "jcf4SO-gtlFz",
        "outputId": "b1fe38d1-0b73-4ca1-a4f9-ec682c76d894"
      },
      "outputs": [
        {
          "data": {
            "text/html": [
              "\n",
              "  <div id=\"df-87ec3e82-98e6-4149-b75f-7c15a1da47e9\">\n",
              "    <div class=\"colab-df-container\">\n",
              "      <div>\n",
              "<style scoped>\n",
              "    .dataframe tbody tr th:only-of-type {\n",
              "        vertical-align: middle;\n",
              "    }\n",
              "\n",
              "    .dataframe tbody tr th {\n",
              "        vertical-align: top;\n",
              "    }\n",
              "\n",
              "    .dataframe thead th {\n",
              "        text-align: right;\n",
              "    }\n",
              "</style>\n",
              "<table border=\"1\" class=\"dataframe\">\n",
              "  <thead>\n",
              "    <tr style=\"text-align: right;\">\n",
              "      <th></th>\n",
              "      <th>age</th>\n",
              "      <th>anaemia</th>\n",
              "      <th>creatinine_phosphokinase</th>\n",
              "      <th>diabetes</th>\n",
              "      <th>ejection_fraction</th>\n",
              "      <th>high_blood_pressure</th>\n",
              "      <th>platelets</th>\n",
              "      <th>serum_creatinine</th>\n",
              "      <th>serum_sodium</th>\n",
              "      <th>sex</th>\n",
              "      <th>smoking</th>\n",
              "      <th>time</th>\n",
              "      <th>DEATH_EVENT</th>\n",
              "    </tr>\n",
              "  </thead>\n",
              "  <tbody>\n",
              "    <tr>\n",
              "      <th>11</th>\n",
              "      <td>62.0</td>\n",
              "      <td>0</td>\n",
              "      <td>231</td>\n",
              "      <td>0</td>\n",
              "      <td>25</td>\n",
              "      <td>1</td>\n",
              "      <td>253000.0</td>\n",
              "      <td>0.9</td>\n",
              "      <td>140</td>\n",
              "      <td>1</td>\n",
              "      <td>1</td>\n",
              "      <td>10</td>\n",
              "      <td>1</td>\n",
              "    </tr>\n",
              "    <tr>\n",
              "      <th>13</th>\n",
              "      <td>50.0</td>\n",
              "      <td>1</td>\n",
              "      <td>168</td>\n",
              "      <td>0</td>\n",
              "      <td>38</td>\n",
              "      <td>1</td>\n",
              "      <td>276000.0</td>\n",
              "      <td>1.1</td>\n",
              "      <td>137</td>\n",
              "      <td>1</td>\n",
              "      <td>0</td>\n",
              "      <td>11</td>\n",
              "      <td>1</td>\n",
              "    </tr>\n",
              "  </tbody>\n",
              "</table>\n",
              "</div>\n",
              "      <button class=\"colab-df-convert\" onclick=\"convertToInteractive('df-87ec3e82-98e6-4149-b75f-7c15a1da47e9')\"\n",
              "              title=\"Convert this dataframe to an interactive table.\"\n",
              "              style=\"display:none;\">\n",
              "        \n",
              "  <svg xmlns=\"http://www.w3.org/2000/svg\" height=\"24px\"viewBox=\"0 0 24 24\"\n",
              "       width=\"24px\">\n",
              "    <path d=\"M0 0h24v24H0V0z\" fill=\"none\"/>\n",
              "    <path d=\"M18.56 5.44l.94 2.06.94-2.06 2.06-.94-2.06-.94-.94-2.06-.94 2.06-2.06.94zm-11 1L8.5 8.5l.94-2.06 2.06-.94-2.06-.94L8.5 2.5l-.94 2.06-2.06.94zm10 10l.94 2.06.94-2.06 2.06-.94-2.06-.94-.94-2.06-.94 2.06-2.06.94z\"/><path d=\"M17.41 7.96l-1.37-1.37c-.4-.4-.92-.59-1.43-.59-.52 0-1.04.2-1.43.59L10.3 9.45l-7.72 7.72c-.78.78-.78 2.05 0 2.83L4 21.41c.39.39.9.59 1.41.59.51 0 1.02-.2 1.41-.59l7.78-7.78 2.81-2.81c.8-.78.8-2.07 0-2.86zM5.41 20L4 18.59l7.72-7.72 1.47 1.35L5.41 20z\"/>\n",
              "  </svg>\n",
              "      </button>\n",
              "      \n",
              "  <style>\n",
              "    .colab-df-container {\n",
              "      display:flex;\n",
              "      flex-wrap:wrap;\n",
              "      gap: 12px;\n",
              "    }\n",
              "\n",
              "    .colab-df-convert {\n",
              "      background-color: #E8F0FE;\n",
              "      border: none;\n",
              "      border-radius: 50%;\n",
              "      cursor: pointer;\n",
              "      display: none;\n",
              "      fill: #1967D2;\n",
              "      height: 32px;\n",
              "      padding: 0 0 0 0;\n",
              "      width: 32px;\n",
              "    }\n",
              "\n",
              "    .colab-df-convert:hover {\n",
              "      background-color: #E2EBFA;\n",
              "      box-shadow: 0px 1px 2px rgba(60, 64, 67, 0.3), 0px 1px 3px 1px rgba(60, 64, 67, 0.15);\n",
              "      fill: #174EA6;\n",
              "    }\n",
              "\n",
              "    [theme=dark] .colab-df-convert {\n",
              "      background-color: #3B4455;\n",
              "      fill: #D2E3FC;\n",
              "    }\n",
              "\n",
              "    [theme=dark] .colab-df-convert:hover {\n",
              "      background-color: #434B5C;\n",
              "      box-shadow: 0px 1px 3px 1px rgba(0, 0, 0, 0.15);\n",
              "      filter: drop-shadow(0px 1px 2px rgba(0, 0, 0, 0.3));\n",
              "      fill: #FFFFFF;\n",
              "    }\n",
              "  </style>\n",
              "\n",
              "      <script>\n",
              "        const buttonEl =\n",
              "          document.querySelector('#df-87ec3e82-98e6-4149-b75f-7c15a1da47e9 button.colab-df-convert');\n",
              "        buttonEl.style.display =\n",
              "          google.colab.kernel.accessAllowed ? 'block' : 'none';\n",
              "\n",
              "        async function convertToInteractive(key) {\n",
              "          const element = document.querySelector('#df-87ec3e82-98e6-4149-b75f-7c15a1da47e9');\n",
              "          const dataTable =\n",
              "            await google.colab.kernel.invokeFunction('convertToInteractive',\n",
              "                                                     [key], {});\n",
              "          if (!dataTable) return;\n",
              "\n",
              "          const docLinkHtml = 'Like what you see? Visit the ' +\n",
              "            '<a target=\"_blank\" href=https://colab.research.google.com/notebooks/data_table.ipynb>data table notebook</a>'\n",
              "            + ' to learn more about interactive tables.';\n",
              "          element.innerHTML = '';\n",
              "          dataTable['output_type'] = 'display_data';\n",
              "          await google.colab.output.renderOutput(dataTable, element);\n",
              "          const docLink = document.createElement('div');\n",
              "          docLink.innerHTML = docLinkHtml;\n",
              "          element.appendChild(docLink);\n",
              "        }\n",
              "      </script>\n",
              "    </div>\n",
              "  </div>\n",
              "  "
            ],
            "text/plain": [
              "     age  anaemia  creatinine_phosphokinase  diabetes  ejection_fraction  \\\n",
              "11  62.0        0                       231         0                 25   \n",
              "13  50.0        1                       168         0                 38   \n",
              "\n",
              "    high_blood_pressure  platelets  serum_creatinine  serum_sodium  sex  \\\n",
              "11                    1   253000.0               0.9           140    1   \n",
              "13                    1   276000.0               1.1           137    1   \n",
              "\n",
              "    smoking  time  DEATH_EVENT  \n",
              "11        1    10            1  \n",
              "13        0    11            1  "
            ]
          },
          "execution_count": 26,
          "metadata": {},
          "output_type": "execute_result"
        }
      ],
      "source": [
        "# Use the index of negative predictions to find the original row with the diagnosis codes\n",
        "# np.where(y_pred == 1)\n",
        "pred_neg_data = df.iloc[np.where(y_pred == 1)]\n",
        "\n",
        "pred_neg_data.head(2)"
      ]
    },
    {
      "cell_type": "code",
      "execution_count": 27,
      "metadata": {
        "colab": {
          "base_uri": "https://localhost:8080/"
        },
        "id": "Ca9glbtL58Kz",
        "outputId": "ce64763a-bd8b-423d-ced6-39e327402dbb"
      },
      "outputs": [
        {
          "data": {
            "text/plain": [
              "(67, 13)"
            ]
          },
          "execution_count": 27,
          "metadata": {},
          "output_type": "execute_result"
        }
      ],
      "source": [
        "pred_pos_data = df.iloc[np.where(y_pred == 0)]\n",
        "\n",
        "pred_pos_data.shape"
      ]
    },
    {
      "cell_type": "code",
      "execution_count": 28,
      "metadata": {
        "id": "86ykmezi6gSt"
      },
      "outputs": [],
      "source": [
        "from sklearn.neighbors import NearestNeighbors, LocalOutlierFactor\n",
        "from nltk.translate.bleu_score import sentence_bleu, SmoothingFunction"
      ]
    },
    {
      "cell_type": "code",
      "execution_count": 39,
      "metadata": {
        "colab": {
          "base_uri": "https://localhost:8080/"
        },
        "id": "pV3h9kSr6YdM",
        "outputId": "cc9b427e-64c4-44d2-b39a-d47ccdf855fe"
      },
      "outputs": [
        {
          "data": {
            "text/plain": [
              "NearestNeighbors(metric='hamming', n_neighbors=1)"
            ]
          },
          "execution_count": 39,
          "metadata": {},
          "output_type": "execute_result"
        }
      ],
      "source": [
        "# Fit an unsupervised 1NN with all the positive seuquences, using 'hamming' distance\n",
        "neural_model = NearestNeighbors(n_neighbors = 1, metric='hamming')\n",
        "target_label = 0 \n",
        "X_target_label = x_train[y_train == target_label] # training using the true labels\n",
        "\n",
        "neural_model.fit(X_target_label)\n"
      ]
    },
    {
      "cell_type": "code",
      "execution_count": 42,
      "metadata": {
        "colab": {
          "base_uri": "https://localhost:8080/"
        },
        "id": "AY27ZZMWHfRd",
        "outputId": "d5547ff3-431a-479c-ec21-8410a8f52767"
      },
      "outputs": [
        {
          "name": "stdout",
          "output_type": "stream",
          "text": [
            "1st negative prediction [8.36363636 0.         0.71319214 0.         3.63636364 0.\n",
            " 2.88832622 1.49438202 6.         0.         0.         3.23843416]\n",
            "X_neg_predict shape (23, 12)\n"
          ]
        }
      ],
      "source": [
        "# Get these instances of negative predictions\n",
        "X_pred_negative = x_valid[y_pred == 1]\n",
        "\n",
        "print('1st negative prediction',X_pred_negative[0])\n",
        "print('X_neg_predict shape', X_pred_negative.shape)"
      ]
    },
    {
      "cell_type": "code",
      "execution_count": 41,
      "metadata": {
        "colab": {
          "base_uri": "https://localhost:8080/"
        },
        "id": "b9d3VCCRFp1m",
        "outputId": "bd1a6059-d6d3-441c-f7f5-69fa218ce6f6"
      },
      "outputs": [
        {
          "name": "stdout",
          "output_type": "stream",
          "text": [
            "(23, 12)\n",
            "closest counter to the negative prediction that can change it into a positive one [ 0.90909091  0.          0.71319214  0.         10.          0.\n",
            "  2.88832622  0.76404494  6.85714286  0.          0.          2.09964413]\n"
          ]
        }
      ],
      "source": [
        "# Find the closest neighbor (positive sequence) with the minimum 'hamming' distance, take it as a counterfactual\n",
        "closest = neural_model.kneighbors(X_pred_negative, return_distance=False)\n",
        "trans_results_nn = X_target_label[closest[:, 0]]\n",
        "print(trans_results_nn.shape)\n",
        "print('closest counter to the negative prediction that can change it into a positive one',trans_results_nn[0])"
      ]
    },
    {
      "cell_type": "markdown",
      "metadata": {
        "id": "Wzkf0y3tHn3g"
      },
      "source": [
        "### ***Fraction of valid transformed input for 1NN baseline method***"
      ]
    },
    {
      "cell_type": "code",
      "execution_count": 44,
      "metadata": {
        "colab": {
          "base_uri": "https://localhost:8080/"
        },
        "id": "J0TK1SjXGenI",
        "outputId": "3e1ddc4f-75e4-4b19-e7b3-d5be166872e6"
      },
      "outputs": [
        {
          "name": "stdout",
          "output_type": "stream",
          "text": [
            "0.1304\n"
          ]
        }
      ],
      "source": [
        "x_test_counter =  trans_results_nn\n",
        "# Get the total counts \n",
        "test_size = X_pred_negative.shape[0]\n",
        "# For 1NN modification\n",
        "fraction_success = np.sum(main_model.predict(x_test_counter) > 0.5)/test_size\n",
        "print(round(fraction_success, 4))\n"
      ]
    },
    {
      "cell_type": "markdown",
      "metadata": {
        "id": "Ar_AB8tkH5CZ"
      },
      "source": [
        "### **LOCAL OUTLIER FACTOR **"
      ]
    },
    {
      "cell_type": "code",
      "execution_count": 45,
      "metadata": {
        "colab": {
          "base_uri": "https://localhost:8080/"
        },
        "id": "TtUtdrSGH3tq",
        "outputId": "94ee1dd6-be44-4221-d850-08be5ebd5309"
      },
      "outputs": [
        {
          "data": {
            "text/plain": [
              "LocalOutlierFactor(contamination=0.1, novelty=True)"
            ]
          },
          "execution_count": 45,
          "metadata": {},
          "output_type": "execute_result"
        }
      ],
      "source": [
        "# Fit the model for novelty detection (novelty=True), in order to get LOF score\n",
        "clf = LocalOutlierFactor(n_neighbors=20, novelty=True, contamination=0.1)\n",
        "# clf.fit(X_train_padded)\n",
        "clf.fit(X_target_label) # use the target class to train, instead of all"
      ]
    },
    {
      "cell_type": "code",
      "execution_count": 46,
      "metadata": {
        "colab": {
          "base_uri": "https://localhost:8080/"
        },
        "id": "beuU7Yi3IBM1",
        "outputId": "e18b568b-901b-4f8f-e003-10cd18a0cde4"
      },
      "outputs": [
        {
          "name": "stdout",
          "output_type": "stream",
          "text": [
            "0.1304\n"
          ]
        }
      ],
      "source": [
        "# Outlier score for 1NN baseline method\n",
        "y_pred_test = clf.predict(x_test_counter)\n",
        "n_error_test = y_pred_test[y_pred_test == -1].size\n",
        "outlier_score_test = n_error_test / test_size\n",
        "print(round(outlier_score_test, 4))"
      ]
    },
    {
      "cell_type": "markdown",
      "metadata": {
        "id": "3ggHypH6IGoL"
      },
      "source": [
        "### ***EDIT DISTANCE (LEVENSHTEIN)***"
      ]
    },
    {
      "cell_type": "code",
      "execution_count": 47,
      "metadata": {
        "id": "ghOdA3eGIE5t"
      },
      "outputs": [],
      "source": [
        "def get_edit_distance(original, transformed):\n",
        "    edit_distance_pair = [editdistance.eval(o, t) for o, t in zip(original.tolist(), transformed.tolist())]\n",
        "    edit_score = np.mean(edit_distance_pair)\n",
        "    \n",
        "    return round(edit_score, 4)"
      ]
    },
    {
      "cell_type": "code",
      "execution_count": 48,
      "metadata": {
        "colab": {
          "base_uri": "https://localhost:8080/"
        },
        "id": "LcQlBH6bILXX",
        "outputId": "4172801d-157f-47cb-8572-62134760f1dc"
      },
      "outputs": [
        {
          "data": {
            "text/plain": [
              "5.8696"
            ]
          },
          "execution_count": 48,
          "metadata": {},
          "output_type": "execute_result"
        }
      ],
      "source": [
        "##This functtion gets that how much the input sequence for negative prediction  \n",
        "#is changed to its positive counter\n",
        "get_edit_distance(x_test_counter, X_pred_negative)"
      ]
    }
  ],
  "metadata": {
    "accelerator": "GPU",
    "colab": {
      "collapsed_sections": [],
      "name": "lstm.ipynb",
      "provenance": []
    },
    "kernelspec": {
      "display_name": "Python 3",
      "name": "python3"
    },
    "language_info": {
      "name": "python"
    }
  },
  "nbformat": 4,
  "nbformat_minor": 0
}
